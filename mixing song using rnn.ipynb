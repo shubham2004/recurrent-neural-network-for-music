{
 "cells": [
  {
   "cell_type": "markdown",
   "metadata": {},
   "source": [
    "# recurrent neural network for remixing music\n",
    "in this code i trained a recurrent neural network on one song and then gave it input for other song so using weights,biases and recurrent layer of the first song it tries to predict next song's steps thus resulting in mixing both. here i used full remix which is filtering out beats from one song you can vary mixing rate and thus creating different remix each time.for better understanding the code please refer code of rnn for music, there i gave working of the code"
   ]
  },
  {
   "cell_type": "code",
   "execution_count": null,
   "metadata": {},
   "outputs": [],
   "source": [
    "#importing necessary libraries\n",
    "from scipy.io import wavfile\n",
    "import sounddevice as sd\n",
    "import soundfile as sf\n",
    "import numpy as np\n",
    "#importing inputs of two songs\n",
    "fs1,data1=wavfile.read('holi')\n",
    "fs,data=wavfile.read('desi')"
   ]
  },
  {
   "cell_type": "code",
   "execution_count": null,
   "metadata": {},
   "outputs": [],
   "source": [
    "x=data1[0:999999] #taking input in small batch\n",
    "y=data1[1:1000000]\n",
    "np.random.seed(1)\n",
    "syn0=np.random.random((2,2))*0.001\n",
    "synh=np.random.random((2,2))*0.001\n",
    "b=np.zeros((1,2))\n",
    "h=np.zeros((1,2))\n",
    "final1=np.array([0,0])\n",
    "for iter in range(10): #iteration\n",
    "    for i in range(len(x)):\n",
    "        l0=np.array([x[i]])\n",
    "        out=np.dot(l0,syn0)+b+np.dot(h,synh) #calculating output\n",
    "\n",
    "        error=np.array(y[i])-out #calculating error\n",
    "        delta=error  #calculating gradient\n",
    "        h=(h.reshape(1,2))\n",
    "        syn0 = syn0+0.00000000000000001*np.dot(l0.T,delta) #backpropagation ,updating weights in hidden layer\n",
    "        synh = synh+0.00000000000000001*np.dot(h.T,delta) #backpropagation through time, updating recurrent layer weights\n",
    "        b=delta #updating bias\n",
    "        h=out #updating recurrent layer\n",
    "        if iter==0:\n",
    "            final1=np.vstack((final1,h))\n",
    "        if (i%10000)==0:\n",
    "            print(out)\n",
    "    "
   ]
  },
  {
   "cell_type": "markdown",
   "metadata": {},
   "source": [
    "now we have calculated weights and bias and recurrent layer value using one song. now we take these parameters and calculate the next step of other song thus mixing them."
   ]
  },
  {
   "cell_type": "code",
   "execution_count": null,
   "metadata": {},
   "outputs": [],
   "source": [
    "x=data[0:99999] #taking input of other songs parameter\n",
    "final2=np.array([0,0])\n",
    "overlap=1\n",
    "for iter in range(1):\n",
    "    for i in range(len(x)):\n",
    "        l0=np.array([x[i]])\n",
    "        out=np.dot(l0,syn0)+b+overlap*np.dot(h,synh) #calculating output on new song using old parameters\n",
    "        h=out\n",
    "        if iter==0:\n",
    "            final2=np.vstack((final2,h))\n",
    "        if (i%10000)==0:\n",
    "            print(out)"
   ]
  },
  {
   "cell_type": "code",
   "execution_count": null,
   "metadata": {},
   "outputs": [],
   "source": [
    "sd.play(final2,fs1)"
   ]
  },
  {
   "cell_type": "code",
   "execution_count": null,
   "metadata": {},
   "outputs": [],
   "source": []
  },
  {
   "cell_type": "code",
   "execution_count": null,
   "metadata": {},
   "outputs": [],
   "source": []
  }
 ],
 "metadata": {
  "kernelspec": {
   "display_name": "Python 3",
   "language": "python",
   "name": "python3"
  },
  "language_info": {
   "codemirror_mode": {
    "name": "ipython",
    "version": 3
   },
   "file_extension": ".py",
   "mimetype": "text/x-python",
   "name": "python",
   "nbconvert_exporter": "python",
   "pygments_lexer": "ipython3",
   "version": "3.5.0"
  }
 },
 "nbformat": 4,
 "nbformat_minor": 2
}
