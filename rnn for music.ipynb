{
 "cells": [
  {
   "cell_type": "markdown",
   "metadata": {},
   "source": [
    "# recurrect neural network for teaching music to machines.\n",
    "this code uses recurrent neural netwok to train model to understad musical notes from scratch which are much complex and dynamic series to decode and teach. we use recurrent neural network as the data based on time frame as for each time step we have a certain beat, pitch, tempo so as the data depends on time and also on previous step as music flows in a continues manner so for predicting new steps we have to take account of previous steps also and this model work as magic for such complex and dynamic problem."
   ]
  },
  {
   "cell_type": "code",
   "execution_count": null,
   "metadata": {},
   "outputs": [],
   "source": [
    "#importing necessary libraries\n",
    "from scipy.io import wavfile # scipy for reading .wav format files\n",
    "import sounddevice as sd #sounddevice for converting numpy into sound\n",
    "import soundfile as sf \n",
    "import numpy as np #numpy\n",
    "fs,data=wavfile.read('music_folder_location')"
   ]
  },
  {
   "cell_type": "code",
   "execution_count": null,
   "metadata": {},
   "outputs": [],
   "source": [
    "x=data[0:999999] #taking data as input\n",
    "y=data[1:1000000] #taking next step as output\n",
    "final=np.array([0,0])\n",
    "np.random.seed(1)\n",
    "syn0=np.random.random((2,2))*0.001 #initializing weights for first hidden layer\n",
    "synh=np.random.random((2,2))*0.001 #initializing weights for recurrent layer\n",
    "b=np.zeros((1,2)) #initializing bias\n",
    "h=np.zeros((1,2)) #initializing recurrent layer\n",
    "for iter in range(10):  #running the code fot specific iteration for training weights\n",
    "    for i in range(len(x)):\n",
    "        l0=np.array([x[i]])\n",
    "        out=np.dot(l0,syn0)+b+np.dot(h,synh) #predicting output\n",
    "\n",
    "        error=np.array(y[i])-out #calculating error\n",
    "        delta=error #calculating gradient\n",
    "        h=(h.reshape(1,2))\n",
    "        syn0 = syn0+0.00000000000000001*np.dot(l0.T,delta) #backpropagating and updating weights\n",
    "        synh = synh+0.00000000000000001*np.dot(h.T,delta)  #backpropagating through time and updating reccurent layer weight\n",
    "        b=delta #updating bias\n",
    "        h=out #updating recurrent layer to current output so tht it can predict nezt step on the basis of all previous steps\n",
    "        if iter==9:\n",
    "            final=np.vstack((final,h))  #after 9 iteration we are filtering out the output \n",
    "        if (i%10000)==0:\n",
    "            print(out)"
   ]
  },
  {
   "cell_type": "code",
   "execution_count": null,
   "metadata": {},
   "outputs": [],
   "source": [
    "sd.play(final,fs) #playing out trained data"
   ]
  },
  {
   "cell_type": "code",
   "execution_count": null,
   "metadata": {},
   "outputs": [],
   "source": []
  },
  {
   "cell_type": "code",
   "execution_count": null,
   "metadata": {},
   "outputs": [],
   "source": []
  }
 ],
 "metadata": {
  "kernelspec": {
   "display_name": "Python 3",
   "language": "python",
   "name": "python3"
  },
  "language_info": {
   "codemirror_mode": {
    "name": "ipython",
    "version": 3
   },
   "file_extension": ".py",
   "mimetype": "text/x-python",
   "name": "python",
   "nbconvert_exporter": "python",
   "pygments_lexer": "ipython3",
   "version": "3.5.0"
  }
 },
 "nbformat": 4,
 "nbformat_minor": 2
}
